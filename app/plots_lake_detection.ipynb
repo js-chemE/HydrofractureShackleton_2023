{
 "cells": [
  {
   "cell_type": "code",
   "execution_count": 42,
   "metadata": {},
   "outputs": [],
   "source": [
    "import numpy as np\n",
    "import shapely\n",
    "from shapely.geometry import Polygon\n",
    "import json\n",
    "import matplotlib.pyplot as plt\n",
    "from matplotlib.colors import LinearSegmentedColormap\n",
    "import rasterio\n",
    "import rasterio.plot as rplt\n",
    "from rasterio.crs import CRS\n",
    "from rasterio.merge import merge\n",
    "from rasterio.mask import mask\n",
    "from rasterio.io import MemoryFile\n",
    "import rasterio.windows  as rw\n",
    "from rasterio.enums import Resampling\n",
    "from rasterio.transform import Affine\n",
    "from scipy.spatial import cKDTree\n",
    "from skimage import (color, data, filters, measure, morphology, segmentation,\n",
    "                     util)\n",
    "import cmocean\n",
    "import cmocean.cm as cmo\n",
    "import cmcrameri\n",
    "import cmcrameri.cm as cmc\n",
    "from matplotlib_scalebar.scalebar import ScaleBar\n",
    "from scipy.stats import gmean\n",
    "from typing import List, Any\n",
    "import os\n",
    "import pandas as pd\n",
    "from shapely.geometry import Point\n",
    "from matplotlib.offsetbox import AnnotationBbox, OffsetImage\n",
    "import matplotlib.image as img\n",
    "import pyproj"
   ]
  },
  {
   "cell_type": "code",
   "execution_count": 43,
   "metadata": {},
   "outputs": [
    {
     "name": "stdout",
     "output_type": "stream",
     "text": [
      "X=====================================================\n",
      "SGLProcessor started for 20181201 to 20190331\n",
      "X=====================================================\n",
      "=====> Get metadata from .csv files.\n",
      "=====> Create collection from csv meta.\n",
      "     | 62 windows created for collection.\n",
      "X=====================================================\n",
      "SGLProcessor started for 20191201 to 20200331\n",
      "X=====================================================\n",
      "=====> Get metadata from .csv files.\n",
      "=====> Create collection from csv meta.\n",
      "     | 69 windows created for collection.\n",
      "X=====================================================\n",
      "SGLProcessor started for 20201201 to 20210331\n",
      "X=====================================================\n",
      "=====> Get metadata from .csv files.\n",
      "=====> Create collection from csv meta.\n",
      "     | 62 windows created for collection.\n",
      "=====> Get ROICollection from csv roi.csv\n",
      "     | 16 regions created.\n"
     ]
    }
   ],
   "source": [
    "import sgl_processor_v03 as sgl # type: ignore\n",
    "import sgl_utils # type: ignore\n",
    "import geopandas as gpd\n",
    "settings18 = sgl.ProcessorSGLSettings.from_range(\"20181201\", \"20190331\")\n",
    "sgl.initialize(settings18)\n",
    "metas18 = sgl.get_metadata_from_csv(settings18.season_folder, [\"tile-181\", \"tile-182\", \"tile-183\"])\n",
    "coll18 = sgl.create_collection_from_meta(settings18, metas18)\n",
    "\n",
    "settings19 = sgl.ProcessorSGLSettings.from_range(\"20191201\", \"20200331\")\n",
    "sgl.initialize(settings19)\n",
    "metas19 = sgl.get_metadata_from_csv(settings19.season_folder, [\"tile-181\", \"tile-182\", \"tile-183\"])\n",
    "coll19 = sgl.create_collection_from_meta(settings19, metas19)\n",
    "\n",
    "settings20 = sgl.ProcessorSGLSettings.from_range(\"20201201\", \"20210331\")\n",
    "sgl.initialize(settings20)\n",
    "metas20 = sgl.get_metadata_from_csv(settings20.season_folder, [\"tile-181\", \"tile-182\", \"tile-183\"])\n",
    "coll20 = sgl.create_collection_from_meta(settings20, metas20)\n",
    "\n",
    "rcoll = sgl.create_roicollection_from_csv(settings18, name = \"shackleton\")"
   ]
  },
  {
   "cell_type": "code",
   "execution_count": 44,
   "metadata": {},
   "outputs": [],
   "source": [
    "lakeextent18 = gpd.read_file(os.path.join(settings18.season_folder, \"L8S2_20181201_20190331_lakeextent.shp\"))\n",
    "drains18 = gpd.read_file(os.path.join(settings18.season_folder, \"L8S2_20181201_20190331_drain.shp\"))\n",
    "gdf_labels18 = pd.read_excel(os.path.join(settings18.season_folder, \"drain_labels_v1.xlsx\"))\n",
    "drain_labels18 = dict(zip(gdf_labels18[gdf_labels18[\"window\"] == 0][\"criteria\"], gdf_labels18[gdf_labels18[\"window\"] == 0][\"drainage\"]))\n",
    "positive_drains18 = [k for k, v in drain_labels18.items() if v == 1]\n",
    "crevs18 = gpd.read_file(os.path.join(settings18.dmg_folder, \"crev_20181201_20190331_active_45(15).shp\"))\n",
    "dmgs18 = gpd.read_file(os.path.join(settings18.dmg_folder, \"S1_20181201_20190331_dmg_5.shp\"))"
   ]
  },
  {
   "cell_type": "code",
   "execution_count": 45,
   "metadata": {},
   "outputs": [],
   "source": [
    "lakeextent19 = gpd.read_file(os.path.join(settings19.season_folder, \"L8S2_20191201_20200331_lakeextent.shp\"))\n",
    "drains19 = gpd.read_file(os.path.join(settings19.season_folder, \"L8S2_20191201_20200331_drain.shp\"))\n",
    "gdf_labels19 = pd.read_excel(os.path.join(settings19.season_folder, \"drain_labels_v1.xlsx\"))\n",
    "drain_labels19 = dict(zip(gdf_labels19[gdf_labels19[\"window\"] == 0][\"criteria\"], gdf_labels19[gdf_labels19[\"window\"] == 0][\"drainage\"]))\n",
    "positive_drains19 = [k for k, v in drain_labels19.items() if v == 1]\n",
    "crevs19 = gpd.read_file(os.path.join(settings19.dmg_folder, \"crev_20191201_20200331_active_45(15).shp\"))\n",
    "dmgs19 = gpd.read_file(os.path.join(settings19.dmg_folder, \"S1_20191201_20200331_dmg_10.shp\"))"
   ]
  },
  {
   "cell_type": "code",
   "execution_count": 46,
   "metadata": {},
   "outputs": [],
   "source": [
    "lakeextent20 = gpd.read_file(os.path.join(settings20.season_folder, \"L8S2_20201201_20210331_lakeextent.shp\"))\n",
    "drains20 = gpd.read_file(os.path.join(settings20.season_folder, \"L8S2_20201201_20210331_drain.shp\"))\n",
    "gdf_labels20 = pd.read_excel(os.path.join(settings20.season_folder, \"drain_labels_v1.xlsx\"))\n",
    "drain_labels20 = dict(zip(gdf_labels20[gdf_labels20[\"window\"] == 0][\"criteria\"], gdf_labels20[gdf_labels20[\"window\"] == 0][\"drainage\"]))\n",
    "positive_drains20 = [k for k, v in drain_labels20.items() if v == 1]\n",
    "crevs20 = gpd.read_file(os.path.join(settings20.dmg_folder, \"crev_20201201_20210331_active_45(15).shp\"))\n",
    "dmgs20 = gpd.read_file(os.path.join(settings20.dmg_folder, \"S1_20201201_20210331_dmg_10.shp\"))"
   ]
  },
  {
   "cell_type": "code",
   "execution_count": 47,
   "metadata": {},
   "outputs": [],
   "source": [
    "settings = settings19\n",
    "coll = coll19\n",
    "date = \"2020-01-22\"\n",
    "roi = rcoll.get(\"E\")\n",
    "name = \"tile-182\"\n",
    "target_res = 3000\n",
    "w0 = [w for w in coll.windows if w.metadata[\"date\"] == date and w.name == name][0]"
   ]
  },
  {
   "cell_type": "code",
   "execution_count": 48,
   "metadata": {},
   "outputs": [],
   "source": [
    "add = gpd.read_file(r\"D:\\[NOT SYNC]\\ASRP_Data\\shackleton\\add_coastline_high_res_line_v7_6.shp\")\n",
    "add.columns\n",
    "add[\"surface\"].unique()\n",
    "\n",
    "shelf_lines = add[add[\"surface\"].isin(['ice shelf and front'])]\n",
    "grounding_lines = add[add[\"surface\"].isin(['ice coastline', 'grounding line', 'ice rumples', 'rock against ice shelf', 'rock coastline'])]\n",
    "\n",
    "xmins, ymins, xmaxs, ymaxs = [], [], [], []\n",
    "for name in coll.names:\n",
    "    \"\"\"Tiles\"\"\"\n",
    "    tile = gpd.read_file(os.path.join(settings.region_folder, name + '_shape.shp')).to_crs(pyproj.CRS(settings.crs_ant_str))\n",
    "    #tile.plot(ax = ax, facecolor=\"none\", alpha = 0.5, edgecolor = \"black\")\n",
    "    #ax.text(tile.centroid.x, tile.centroid.y, name.split(\"-\")[-1], rotation = -90, fontweight = \"bold\")\n",
    "\n",
    "    \"\"\"Ice Shelf\"\"\"\n",
    "    xmin, ymin, xmax, ymax = tile.total_bounds\n",
    "    xmins.append(xmin)\n",
    "    ymins.append(ymin)\n",
    "    xmaxs.append(xmax)\n",
    "    ymaxs.append(ymax)\n",
    "\n",
    "xmin_total = np.array(xmins).min()\n",
    "ymin_total = np.array(ymins).min()\n",
    "xmax_total = np.array(xmaxs).max()\n",
    "ymax_total = np.array(ymaxs).max()\n",
    "\n",
    "\n",
    "shelf = shelf_lines.cx[xmin_total:xmax_total, ymin_total:ymax_total]\n",
    "solid = grounding_lines.cx[xmin_total:xmax_total, ymin_total:ymax_total]"
   ]
  },
  {
   "cell_type": "code",
   "execution_count": 49,
   "metadata": {},
   "outputs": [],
   "source": [
    "sample_file = r\"D:\\[NOT SYNC]\\ASRP_Data\\shackleton_sgl_20191201_20200331\\tile-182_sample.tif\"\n",
    "\"\"\"tif\"\"\"\n",
    "with rasterio.open(sample_file) as src:\n",
    "    meta = src.meta\n",
    "    tif_clipped, tif_transform = mask(dataset=src, shapes=[geom for geom in roi.data.rotate(sgl_utils.get_angle(roi.data))], crop=True)"
   ]
  },
  {
   "cell_type": "code",
   "execution_count": 50,
   "metadata": {},
   "outputs": [
    {
     "data": {
      "image/png": "[encoded data removed]",
      "text/plain": [
       "<Figure size 800x1039.45 with 1 Axes>"
      ]
     },
     "metadata": {},
     "output_type": "display_data"
    }
   ],
   "source": [
    "size = 8\n",
    "dx = tif_clipped.shape[1]\n",
    "dy = tif_clipped.shape[2]\n",
    "fig, ax = plt.subplots(figsize = (size, size * dy / dx))\n",
    "rplt.show(tif_clipped[0], transform = tif_transform, ax = ax, cmap = sgl_utils.cmap_clouds)\n",
    "rplt.show(-tif_clipped[1], transform = tif_transform, ax = ax, cmap = sgl_utils.cmap_lakes)\n",
    "rplt.show(tif_clipped[3], transform = tif_transform, ax = ax, cmap = \"Greens\")\n",
    "#ax.add_artist(ScaleBar(1))\n",
    "ax.set_yticks([])\n",
    "ax.set_xticks([])\n",
    "ax.axis('off')\n",
    "plt.show()"
   ]
  },
  {
   "cell_type": "code",
   "execution_count": 51,
   "metadata": {},
   "outputs": [
    {
     "name": "stdout",
     "output_type": "stream",
     "text": [
      "352455400.0\n",
      "337309400.0\n",
      "377092200.0\n"
     ]
    }
   ],
   "source": [
    "print(lakeextent18.area.sum())\n",
    "print(lakeextent19.area.sum())\n",
    "print(lakeextent20.area.sum())"
   ]
  }
 ],
 "metadata": {
  "kernelspec": {
   "display_name": "base",
   "language": "python",
   "name": "python3"
  },
  "language_info": {
   "codemirror_mode": {
    "name": "ipython",
    "version": 3
   },
   "file_extension": ".py",
   "mimetype": "text/x-python",
   "name": "python",
   "nbconvert_exporter": "python",
   "pygments_lexer": "ipython3",
   "version": "3.9.13 (main, Aug 25 2022, 23:51:50) [MSC v.1916 64 bit (AMD64)]"
  },
  "orig_nbformat": 4,
  "vscode": {
   "interpreter": {
    "hash": "ff81698178776af95f4a351a911bfee9106e679b744f885a3fb17ba0d60fe3ea"
   }
  }
 },
 "nbformat": 4,
 "nbformat_minor": 2
}
