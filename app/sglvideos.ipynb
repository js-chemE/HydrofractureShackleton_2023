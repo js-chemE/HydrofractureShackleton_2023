{
 "cells": [
  {
   "cell_type": "code",
   "execution_count": 1,
   "metadata": {},
   "outputs": [
    {
     "name": "stderr",
     "output_type": "stream",
     "text": [
      "d:\\OneDrive\\02_Standards\\[Code]\\01_Projects\\ASRP_Antarctic-Remote-Sensing-1\\.venv_ASRP\\lib\\site-packages\\geopandas\\_compat.py:112: UserWarning: The Shapely GEOS version (3.10.1-CAPI-1.16.0) is incompatible with the GEOS version PyGEOS was compiled with (3.10.3-CAPI-1.16.1). Conversions between both will be slow.\n",
      "  warnings.warn(\n"
     ]
    }
   ],
   "source": [
    "import numpy as np\n",
    "import shapely\n",
    "import json\n",
    "import matplotlib.pyplot as plt\n",
    "\n",
    "import rasterio\n",
    "import rasterio.plot as rplt\n",
    "from rasterio.crs import CRS\n",
    "from rasterio.merge import merge\n",
    "from rasterio.mask import mask\n",
    "from rasterio.io import MemoryFile\n",
    "from rasterio.windows import Window as rWindow\n",
    "from rasterio.enums import Resampling\n",
    "from matplotlib_scalebar.scalebar import ScaleBar\n",
    "\n",
    "from typing import List, Any\n",
    "import os\n",
    "import cv2\n",
    "import pyproj\n",
    "import pandas as pd\n",
    "from sgl_processor_v02 import ProcessorSGL, ProcessorSGLOptions, Window, WindowCollection\n",
    "from sgl_utils import ROI, ROICollection, Window, WindowCollection, RES, date_with_comma, get_angle\n",
    "import geopandas as gpd"
   ]
  },
  {
   "cell_type": "code",
   "execution_count": 2,
   "metadata": {},
   "outputs": [
    {
     "name": "stdout",
     "output_type": "stream",
     "text": [
      "X=====================================================\n",
      "PostProcessor started for 20191201 to 20200331\n",
      "X=====================================================\n",
      "=====> Get metadata from .csv files.\n",
      "=====> Create collection from csv meta.\n",
      "     | 69 windows created for collection.\n",
      "     | 16 regions created.\n"
     ]
    }
   ],
   "source": [
    "optionsSGL = ProcessorSGLOptions()\n",
    "optionsSGL.rangestart = \"20191201\"\n",
    "optionsSGL.rangeend = \"20200331\"\n",
    "processorSGL = ProcessorSGL(optionsSGL)\n",
    "metas = processorSGL.get_metadata_from_csv(processorSGL.opts.output_folder, [\"tile-181\", \"tile-182\", \"tile-183\"])\n",
    "coll = processorSGL.create_collection_from_meta(\"shackleton1920\", metas)\n",
    "rcoll = processorSGL.create_roicollection_from_csv(\"shackleton\")"
   ]
  },
  {
   "cell_type": "markdown",
   "metadata": {},
   "source": [
    "# Just Images"
   ]
  },
  {
   "cell_type": "markdown",
   "metadata": {},
   "source": [
    "count = 0\n",
    "\n",
    "for date in coll.dates:\n",
    "    ws = [w for w in coll.windows if w.metadata[\"date\"] == date and w.name == \"tile-181\"]\n",
    "    if len(ws) != 1:\n",
    "        continue\n",
    "    w = ws[0]\n",
    "    tiff_rgb = rasterio.open(os.path.join(processorSGL.opts.input_folder, w.file_rgb))\n",
    "    tiff = rasterio.open(os.path.join(processorSGL.opts.input_folder, w.file_gee))\n",
    "    image = tiff_rgb.read()\n",
    "    clouds = tiff.read(1)\n",
    "    #clouds[clouds == 0] = np.nan\n",
    "    lakes = tiff.read(2)\n",
    "    #lakes[lakes == 0] = np.nan\n",
    "\n",
    "    iceshelf = np.zeros(clouds.shape)\n",
    "    iceshelf[clouds == 0] = 1\n",
    "\n",
    "    fig, ax = plt.subplots(figsize = (12, 12))\n",
    "    rplt.show(image, transform = tiff_rgb.transform, ax = ax)\n",
    "    rplt.show(lakes, transform = tiff.transform, ax = ax, cmap = \"Blues_r\")\n",
    "    rplt.show(clouds, transform = tiff.transform, ax = ax, cmap = cmap_clouds)\n",
    "    plt.show()\n",
    "\n",
    "    count += 1\n",
    "    if count == 2:\n",
    "        break"
   ]
  },
  {
   "cell_type": "markdown",
   "metadata": {},
   "source": [
    "# Clipped Images"
   ]
  },
  {
   "cell_type": "code",
   "execution_count": 3,
   "metadata": {},
   "outputs": [
    {
     "name": "stdout",
     "output_type": "stream",
     "text": [
      "=====> Create Images\n",
      "     | 2019-12-05 | L8\n",
      "     | 2019-12-06 | S2\n",
      "     | 2019-12-13 | L8\n",
      "     | 2019-12-16 | S2\n",
      "     | 2019-12-21 | L8\n",
      "     | 2019-12-26 | S2\n",
      "     | 2019-12-29 | L8\n",
      "     | 2020-01-05 | S2\n",
      "     | 2020-01-06 | L8\n",
      "     | 2020-01-14 | L8\n",
      "     | 2020-01-15 | S2\n",
      "     | 2020-01-22 | L8\n",
      "     | 2020-01-25 | S2\n",
      "     | 2020-01-30 | L8\n",
      "     | 2020-02-04 | S2\n",
      "     | 2020-02-07 | L8\n",
      "     | 2020-02-14 | S2\n",
      "     | 2020-02-15 | L8\n",
      "     | 2020-02-23 | L8\n",
      "     | 2020-02-24 | S2\n",
      "     | 2020-03-02 | L8\n",
      "     | 2020-03-05 | S2\n",
      "     | 2020-03-10 | L8\n",
      "     | 2020-03-15 | S2\n"
     ]
    }
   ],
   "source": [
    "images = processorSGL.create_clipped_images(coll, max_images = 30, roi = rcoll.get(\"E\"), satellites = [\"S2\", \"L8\"], dominant_satellite = \"S2\", print_metadata = True, show_bool = False, return_windows = False)"
   ]
  },
  {
   "cell_type": "markdown",
   "metadata": {},
   "source": [
    "## Video from clipped Images"
   ]
  },
  {
   "cell_type": "code",
   "execution_count": 3,
   "metadata": {},
   "outputs": [],
   "source": [
    "def create_videos_from_images(images, windows, videoname: str = \"test\", fps: float = 1.0, number_last_images = 3):\n",
    "    img0 = images[\"rgb\"][0]\n",
    "    fourcc = cv2.VideoWriter_fourcc(*'DIVX')\n",
    "    video_path = os.path.join(processorSGL.opts.parent_output_folder, \"videos\", videoname + \".avi\")\n",
    "    video = cv2.VideoWriter(video_path, fourcc, float(fps), (img0.shape[2], img0.shape[1]))\n",
    "    bool_cleaned = [rgb.max() > rgb.min() for rgb in images[\"rgb\"]]\n",
    "    rgb_cleaned = [img for (img, b) in zip(images[\"rgb\"], bool_cleaned) if b]\n",
    "    lakes_cleaned = [img for (img, b) in zip(images[\"lakes\"], bool_cleaned) if b]\n",
    "    clouds_cleaned = [img for (img, b) in zip(images[\"clouds\"], bool_cleaned) if b]\n",
    "    windows_cleaned = [w for (w, b) in zip(windows, bool_cleaned) if b]\n",
    "\n",
    "\n",
    "    for frame_count, rgb in enumerate(rgb_cleaned):\n",
    "        #converted_img = np.zeros((rgb.shape[1], rgb.shape[2], rgb.shape[0]))\n",
    "        #converted_dmg = np.zeros(images[\"dmg\"].shape)\n",
    "\n",
    "        #dmg_converted = np.dstack([images[\"dmg\"], images[\"dmg\"], images[\"dmg\"]])\n",
    "        #dmg_converted[dmg_converted <= 0] = np.nan\n",
    "        #print(images[\"dmg\"].shape)\n",
    "        #dmg_prepared = (images[\"dmg\"][0] * 2 * 255).astype(np.uint8)\n",
    "\n",
    "        #print(dmg_prepared.shape)\n",
    "        #dmg_colour = cv2.applyColorMap(dmg_prepared, cv2.COLORMAP_HOT)\n",
    "        #print(dmg_colour.shape)\n",
    "        #dmg_mask = dmg_colour.copy()\n",
    "        #dmg_mask[dmg_colour > 0] = 1\n",
    "        #print(dmg_mask)\n",
    "        #dmg_mask = dmg_mask.astype(bool)\n",
    "        #rplt.show_hist(np.moveaxis(dmg_colour, 2, 0))\n",
    "\n",
    "\n",
    "\n",
    "        for i in range(rgb.shape[0]):\n",
    "            rgb[i, :, :] = (rgb[i, :, :] - np.min(rgb[i, :, :]))/(np.max(rgb[i, :, :]) - np.min(rgb[i, :, :]))\n",
    "        rgb_converted = np.moveaxis(rgb, 0, 2)\n",
    "        rgb_prepared = (rgb_converted * 255).astype(np.uint8)\n",
    "        frame = cv2.cvtColor(rgb_prepared, cv2.COLOR_RGB2BGR)\n",
    "        \n",
    "        \n",
    "\n",
    "\n",
    "        #alpha = 0.0\n",
    "        #beta = (1.0 - alpha)\n",
    "        #dst = cv2.addWeighted(frame, alpha, dmg_colour, beta, 0.0)\n",
    "        #bg = frame.copy()\n",
    "        #print(frame.shape, dmg_colour.shape)\n",
    "        #bg[dmg_mask] = cv2.addWeighted(frame, alpha, dmg_colour, beta, 0.0)[dmg_mask]\n",
    "\n",
    "\n",
    "        font = cv2.FONT_HERSHEY_SIMPLEX\n",
    "    \n",
    "        # Use putText() method for\n",
    "        # inserting text on video\n",
    "        cv2.putText(frame, \n",
    "                    windows_cleaned[frame_count].metadata[\"date\"] + \" | \" + windows_cleaned[frame_count].satellite, \n",
    "                    (50, 100), \n",
    "                    font, 2, \n",
    "                    (0, 255, 255), \n",
    "                    4, \n",
    "                    cv2.LINE_4)\n",
    "        #print(frame.shape)\n",
    "        #print(images_cleaned[0].astype(np.uint8))\n",
    "        video.write(frame)\n",
    "        if frame_count == len(rgb_cleaned) - 1:\n",
    "            for i in range(number_last_images):\n",
    "                video.write(frame)\n",
    "\n",
    "    video.release()"
   ]
  },
  {
   "cell_type": "code",
   "execution_count": 26,
   "metadata": {},
   "outputs": [
    {
     "name": "stdout",
     "output_type": "stream",
     "text": [
      "     | 2019-12-05 | L8 | (3, 4496, 2369) | (1, 4496, 2369)\n",
      "     | 2019-12-06 | S2 | (3, 4496, 2369) | (1, 4496, 2369)\n",
      "     | 2019-12-13 | L8 | (3, 4496, 2369) | (1, 4496, 2369)\n",
      "     | 2019-12-16 | S2 | (3, 4496, 2369) | (1, 4496, 2369)\n",
      "     | 2019-12-21 | L8 | (3, 4496, 2369) | (1, 4496, 2369)\n",
      "     | 2019-12-26 | S2 | (3, 4496, 2369) | (1, 4496, 2369)\n",
      "     | 2019-12-29 | L8 | (3, 4496, 2369) | (1, 4496, 2369)\n",
      "     | 2020-01-05 | S2 | (3, 4496, 2369) | (1, 4496, 2369)\n",
      "     | 2020-01-06 | L8 | (3, 4496, 2369) | (1, 4496, 2369)\n",
      "     | 2020-01-14 | L8 | (3, 4496, 2369) | (1, 4496, 2369)\n",
      "     | 2020-01-15 | S2 | (3, 4496, 2369) | (1, 4496, 2369)\n",
      "     | 2020-01-22 | L8 | (3, 4496, 2369) | (1, 4496, 2369)\n",
      "     | 2020-01-30 | L8 | (3, 4496, 2369) | (1, 4496, 2369)\n",
      "     | 2020-02-04 | S2 | (3, 4496, 2369) | (1, 4496, 2369)\n",
      "     | 2020-02-07 | L8 | (3, 4496, 2369) | (1, 4496, 2369)\n",
      "     | 2020-02-14 | S2 | (3, 4496, 2369) | (1, 4496, 2369)\n",
      "     | 2020-02-15 | L8 | (3, 4496, 2369) | (1, 4496, 2369)\n",
      "     | 2020-02-23 | L8 | (3, 4496, 2369) | (1, 4496, 2369)\n",
      "     | 2020-03-02 | L8 | (3, 4496, 2369) | (1, 4496, 2369)\n",
      "     | 2020-03-05 | S2 | (3, 4496, 2369) | (1, 4496, 2369)\n",
      "     | 2020-03-10 | L8 | (3, 4496, 2369) | (1, 4496, 2369)\n",
      "     | 2020-03-15 | S2 | (3, 4496, 2369) | (1, 4496, 2369)\n"
     ]
    }
   ],
   "source": [
    "images, included_windows = processorSGL.create_clipped_images(coll, roi = rcoll.get(region), satellites = [\"S2\", \"L8\"], dominant_satellite = \"S2\", print_metadata = True, return_windows = True)\n",
    "create_videos_from_images(images, included_windows, region, fps = 0.5)\n"
   ]
  },
  {
   "cell_type": "code",
   "execution_count": 4,
   "metadata": {},
   "outputs": [
    {
     "name": "stdout",
     "output_type": "stream",
     "text": [
      "A\n",
      "=====> Create Images\n",
      "B1\n",
      "=====> Create Images\n",
      "B\n",
      "=====> Create Images\n",
      "C\n",
      "=====> Create Images\n",
      "D\n",
      "=====> Create Images\n",
      "E1\n",
      "=====> Create Images\n",
      "E\n",
      "=====> Create Images\n",
      "F\n",
      "=====> Create Images\n",
      "G\n",
      "=====> Create Images\n",
      "H1\n",
      "=====> Create Images\n",
      "H\n",
      "=====> Create Images\n",
      "I\n",
      "=====> Create Images\n",
      "J\n",
      "=====> Create Images\n",
      "K\n",
      "=====> Create Images\n",
      "L\n",
      "=====> Create Images\n",
      "Z\n",
      "=====> Create Images\n"
     ]
    }
   ],
   "source": [
    "for roi in rcoll.rois:\n",
    "    print(roi.name)\n",
    "    images, included_windows = processorSGL.create_clipped_images(coll, roi = rcoll.get(roi.name), satellites = [\"S2\", \"L8\"], dominant_satellite = \"S2\", show_bool = False, return_windows = True)\n",
    "    create_videos_from_images(images, included_windows, roi.name, fps = 0.8)\n",
    "\n"
   ]
  }
 ],
 "metadata": {
  "kernelspec": {
   "display_name": "Python 3.9.13 ('base')",
   "language": "python",
   "name": "python3"
  },
  "language_info": {
   "codemirror_mode": {
    "name": "ipython",
    "version": 3
   },
   "file_extension": ".py",
   "mimetype": "text/x-python",
   "name": "python",
   "nbconvert_exporter": "python",
   "pygments_lexer": "ipython3",
   "version": "3.9.13 (main, Aug 25 2022, 23:51:50) [MSC v.1916 64 bit (AMD64)]"
  },
  "orig_nbformat": 4,
  "vscode": {
   "interpreter": {
    "hash": "ff81698178776af95f4a351a911bfee9106e679b744f885a3fb17ba0d60fe3ea"
   }
  }
 },
 "nbformat": 4,
 "nbformat_minor": 2
}
