{
 "cells": [
  {
   "cell_type": "code",
   "execution_count": 1,
   "metadata": {},
   "outputs": [],
   "source": [
    "import numpy as np\n",
    "\n",
    "import matplotlib.pyplot as plt\n",
    "from matplotlib.colors import LinearSegmentedColormap\n",
    "import matplotlib.cm as cm\n",
    "import rasterio\n",
    "import rasterio.plot as rplt\n",
    "from rasterio.merge import merge\n",
    "from rasterio.mask import mask\n",
    "from rasterio.windows import Window as rWindow\n",
    "from rasterio.enums import Resampling\n",
    "from matplotlib_scalebar.scalebar import ScaleBar\n",
    "\n",
    "\n",
    "from typing import List, Any\n",
    "import os\n",
    "import pyproj\n",
    "import pandas as pd"
   ]
  },
  {
   "cell_type": "code",
   "execution_count": 2,
   "metadata": {},
   "outputs": [
    {
     "name": "stdout",
     "output_type": "stream",
     "text": [
      "X=====================================================\n",
      "SGLProcessor started for 20181201 to 20190331\n",
      "X=====================================================\n",
      "=====> Get metadata from .csv files.\n",
      "=====> Create collection from csv meta.\n",
      "     | 62 windows created for collection.\n"
     ]
    }
   ],
   "source": [
    "import sgl_processor_v03 as sgl # type: ignore\n",
    "import sgl_utils # type: ignore\n",
    "import geopandas as gpd\n",
    "settings = sgl.ProcessorSGLSettings()\n",
    "settings.rangestart = \"20181201\"\n",
    "settings.rangeend = \"20190331\"\n",
    "processorSGL = sgl.initialize(settings)\n",
    "metas = sgl.get_metadata_from_csv(settings.season_folder, [\"tile-181\", \"tile-182\", \"tile-183\"])\n",
    "coll = sgl.create_collection_from_meta(settings, metas)"
   ]
  },
  {
   "cell_type": "markdown",
   "metadata": {},
   "source": [
    "# Vectorize Lake Extent"
   ]
  },
  {
   "cell_type": "code",
   "execution_count": 3,
   "metadata": {},
   "outputs": [
    {
     "name": "stdout",
     "output_type": "stream",
     "text": [
      "=====> Get vectorized max lake extents.\n",
      "     |  24978 | tile-181_L8S2_2018-12-01_2019-03-31_10m_maxlake.tif\n",
      "     |   8800 | tile-182_L8S2_2018-12-01_2019-03-31_10m_maxlake.tif\n",
      "     |   3993 | tile-183_L8S2_2018-12-01_2019-03-31_10m_maxlake.tif\n",
      "     |  37771 | with EPSG:3031\n"
     ]
    }
   ],
   "source": [
    "lakeextents = sgl.get_vectorized_lakeextents(settings.season_folder, coll, print_bool = True)\n",
    "lakeextents_combined = gpd.GeoDataFrame(pd.concat([l[\"data\"] for l in lakeextents]))  # type: ignore\n",
    "lakeextents_combined.set_crs(lakeextents[0][\"data\"].crs)  # type: ignore\n",
    "print(f\"     | {lakeextents_combined.shape[0]:>6d} | with {lakeextents_combined.crs}\")"
   ]
  },
  {
   "cell_type": "code",
   "execution_count": 4,
   "metadata": {},
   "outputs": [
    {
     "name": "stderr",
     "output_type": "stream",
     "text": [
      "d:\\Programme\\Anaconda\\lib\\site-packages\\geopandas\\io\\file.py:299: FutureWarning: pandas.Int64Index is deprecated and will be removed from pandas in a future version. Use pandas.Index with the appropriate dtype instead.\n",
      "  pd.Int64Index,\n"
     ]
    }
   ],
   "source": [
    "fname_lakeextent = \"L8S2_\" + settings.rangestart + \"_\" +  settings.rangeend + \"_lakeextent.shp\"\n",
    "lakeextents_combined.to_file(os.path.join(settings.season_folder, fname_lakeextent))"
   ]
  },
  {
   "cell_type": "markdown",
   "metadata": {},
   "source": [
    "# Vectorize Damage"
   ]
  },
  {
   "cell_type": "code",
   "execution_count": 12,
   "metadata": {},
   "outputs": [
    {
     "name": "stdout",
     "output_type": "stream",
     "text": [
      "=====> Get vectorized dmg.\n",
      "     |  12088 | tile-181_S1_20181101_20181110_30m_output_10px_dmg.tif\n",
      "     |  10437 | tile-182_S1_20181101_20181110_30m_output_10px_dmg.tif\n",
      "     |  19162 | tile-183_S1_20181101_20181110_30m_output_10px_dmg.tif\n",
      "     |  41687 | with EPSG:3031\n"
     ]
    }
   ],
   "source": [
    "number_bins = 5\n",
    "dmgs = sgl.get_vectorized_dmgs(settings.dmg_folder, coll, print_bool = True, category_bins = number_bins)\n",
    "dmgs_combined = gpd.GeoDataFrame(pd.concat([d[\"data\"] for d in dmgs]))  # type: ignore\n",
    "dmgs_combined.set_crs(dmgs[0][\"data\"].crs)  # type: ignore\n",
    "print(f\"     | {dmgs_combined.shape[0]:>6d} | with {dmgs_combined.crs}\")"
   ]
  },
  {
   "cell_type": "code",
   "execution_count": 13,
   "metadata": {},
   "outputs": [
    {
     "name": "stderr",
     "output_type": "stream",
     "text": [
      "d:\\Programme\\Anaconda\\lib\\site-packages\\geopandas\\io\\file.py:299: FutureWarning: pandas.Int64Index is deprecated and will be removed from pandas in a future version. Use pandas.Index with the appropriate dtype instead.\n",
      "  pd.Int64Index,\n"
     ]
    }
   ],
   "source": [
    "fname_dmg = \"S1_\" + settings.rangestart + \"_\" +  settings.rangeend + \"_dmg_\" + str(number_bins) + \".shp\"\n",
    "dmgs_combined.to_file(os.path.join(settings.dmg_folder, fname_dmg))"
   ]
  },
  {
   "cell_type": "markdown",
   "metadata": {},
   "source": [
    "# Vectorize Crevasses"
   ]
  },
  {
   "cell_type": "code",
   "execution_count": 9,
   "metadata": {},
   "outputs": [
    {
     "name": "stdout",
     "output_type": "stream",
     "text": [
      "=====> Get vectorized active crevasses for 45° (15°).\n",
      "     |   1764 |  50439 | tile-181_S1_20181101_20181110_delta-alpha.tif\n",
      "     |   1069 |  51568 | tile-182_S1_20181101_20181110_delta-alpha.tif\n",
      "     |    404 |  30480 | tile-183_S1_20181101_20181110_delta-alpha.tif\n",
      "     |   3237 vs 132487 with EPSG:3031\n"
     ]
    }
   ],
   "source": [
    "crevs = sgl.get_vectorized_crevasse(settings, coll, print_bool = True, target = 45, spread = 15)\n",
    "active_crevs = gpd.GeoDataFrame(pd.concat([d[\"data active\"] for d in crevs]))  # type: ignore\n",
    "active_crevs.set_crs(crevs[0][\"data active\"].crs)  # type: ignore\n",
    "inactive_crevs = gpd.GeoDataFrame(pd.concat([d[\"data inactive\"] for d in crevs]))  # type: ignore\n",
    "inactive_crevs.set_crs(crevs[0][\"data inactive\"].crs)   # type: ignore\n",
    "print(f\"     | {active_crevs.shape[0]:>6d} vs {inactive_crevs.shape[0]:>6d} with {inactive_crevs.crs}\")"
   ]
  },
  {
   "cell_type": "code",
   "execution_count": 10,
   "metadata": {},
   "outputs": [
    {
     "name": "stderr",
     "output_type": "stream",
     "text": [
      "d:\\Programme\\Anaconda\\lib\\site-packages\\geopandas\\io\\file.py:299: FutureWarning: pandas.Int64Index is deprecated and will be removed from pandas in a future version. Use pandas.Index with the appropriate dtype instead.\n",
      "  pd.Int64Index,\n"
     ]
    }
   ],
   "source": [
    "fname_dmg = \"crev_\" + settings.rangestart + \"_\" +  settings.rangeend + \"_active_45(15).shp\"\n",
    "active_crevs.to_file(os.path.join(settings.dmg_folder, fname_dmg))"
   ]
  },
  {
   "cell_type": "code",
   "execution_count": 11,
   "metadata": {},
   "outputs": [
    {
     "name": "stderr",
     "output_type": "stream",
     "text": [
      "d:\\Programme\\Anaconda\\lib\\site-packages\\geopandas\\io\\file.py:299: FutureWarning: pandas.Int64Index is deprecated and will be removed from pandas in a future version. Use pandas.Index with the appropriate dtype instead.\n",
      "  pd.Int64Index,\n"
     ]
    }
   ],
   "source": [
    "fname_dmg = \"crev_\" + settings.rangestart + \"_\" +  settings.rangeend + \"_inactive_45(15).shp\"\n",
    "inactive_crevs.to_file(os.path.join(settings.dmg_folder, fname_dmg))"
   ]
  },
  {
   "cell_type": "code",
   "execution_count": null,
   "metadata": {},
   "outputs": [],
   "source": []
  }
 ],
 "metadata": {
  "kernelspec": {
   "display_name": "Python 3.9.13 ('base')",
   "language": "python",
   "name": "python3"
  },
  "language_info": {
   "codemirror_mode": {
    "name": "ipython",
    "version": 3
   },
   "file_extension": ".py",
   "mimetype": "text/x-python",
   "name": "python",
   "nbconvert_exporter": "python",
   "pygments_lexer": "ipython3",
   "version": "3.9.13"
  },
  "orig_nbformat": 4,
  "vscode": {
   "interpreter": {
    "hash": "ff81698178776af95f4a351a911bfee9106e679b744f885a3fb17ba0d60fe3ea"
   }
  }
 },
 "nbformat": 4,
 "nbformat_minor": 2
}
