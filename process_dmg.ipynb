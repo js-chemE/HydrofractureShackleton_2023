{
 "cells": [
  {
   "cell_type": "code",
   "execution_count": 1,
   "metadata": {},
   "outputs": [],
   "source": [
    "import os\n",
    "import rasterio\n",
    "import rasterio.crs\n",
    "import rasterio\n",
    "from rasterio.merge import merge\n",
    "from rasterio.plot import show\n",
    "import matplotlib.pyplot as plt\n",
    "from pprint import pprint\n",
    "import app"
   ]
  },
  {
   "cell_type": "code",
   "execution_count": 2,
   "metadata": {},
   "outputs": [],
   "source": [
    "data_folder = r\"D:\\[Code]\\HydrofractureShackleton_2023\\data\"\n"
   ]
  },
  {
   "cell_type": "code",
   "execution_count": 22,
   "metadata": {},
   "outputs": [],
   "source": [
    "input_folder = r\"E:\\ASRP_Data\\shackleton_S1_30m\"\n",
    "criteria = [\"20181101_20181110\", \"20191101_20191110\", \"20201101_20201110\"]\n",
    "for crit in criteria:\n",
    "    dmg_files = [\n",
    "        os.path.join(input_folder, f)\n",
    "        for f in os.listdir(input_folder)\n",
    "        if crit in f and \"dmg\" in f and \"xml\" not in f\n",
    "    ]\n",
    "    delta_alpha_files = [\n",
    "        os.path.join(input_folder, f)\n",
    "        for f in os.listdir(input_folder)\n",
    "        if crit in f and \"delta-alpha\" in f and \"xml\" not in f\n",
    "    ]\n",
    "    alphaC_files = [\n",
    "        os.path.join(input_folder, f)\n",
    "        for f in os.listdir(input_folder)\n",
    "        if crit in f and \"alphaC\" in f and \"xml\" not in f\n",
    "    ]\n",
    "    crev_files = [\n",
    "        os.path.join(input_folder, f)\n",
    "        for f in os.listdir(input_folder)\n",
    "        if crit in f and \"crev\" in f and \"xml\" not in f\n",
    "    ]\n",
    "    app.merge_geotiffs(dmg_files, os.path.join(data_folder, crit[:4] + \"_S1_30m_dmg.tif\"))\n",
    "    app.merge_geotiffs(\n",
    "        delta_alpha_files,\n",
    "        os.path.join(data_folder, crit[:4] + \"_S1_30m_delta-alpha.tif\"),\n",
    "    )\n",
    "    app.merge_geotiffs(\n",
    "        crev_files, os.path.join(data_folder, crit[:4] + \"_S1_30m_crev.tif\")\n",
    "    )\n",
    "    app.merge_geotiffs(\n",
    "        alphaC_files, os.path.join(data_folder, crit[:4] + \"_S1_30m_alphaC.tif\")\n",
    "    )"
   ]
  },
  {
   "cell_type": "code",
   "execution_count": 14,
   "metadata": {},
   "outputs": [
    {
     "name": "stdout",
     "output_type": "stream",
     "text": [
      "2018-12-01_2019-03-31\n",
      "2019-12-01_2020-03-31\n",
      "2020-12-01_2021-03-31\n"
     ]
    }
   ],
   "source": [
    "input_folder = r\"E:\\ASRP_Data\"\n",
    "criteria = [\"2018-12-01_2019-03-31\", \"2019-12-01_2020-03-31\", \"2020-12-01_2021-03-31\"]\n",
    "for crit in criteria:\n",
    "    print(crit)\n",
    "    folder = [os.path.join(input_folder, f) for f in os.listdir(input_folder) if crit.replace(\"-\", \"\") in f][0]\n",
    "    #S2_files = [\n",
    "    #    os.path.join(input_folder, folder, f)\n",
    "    #    for f in os.listdir(folder)\n",
    "    #    if crit in f and \".tif\" in f and \"iceshelf\" in f and \"S2\" in f\n",
    "    #]\n",
    "    L8_files = [\n",
    "        os.path.join(input_folder, folder, f)\n",
    "        for f in os.listdir(folder)\n",
    "        if crit in f and \".tif\" in f and \"iceshelf\" in f and \"L8\" in f\n",
    "    ]\n",
    "    #app.merge_geotiffs(S2_files, os.path.join(data_folder, crit[:4] + \"_S2_10m_iceshelf.tif\"))\n",
    "    app.merge_geotiffs(\n",
    "        L8_files, os.path.join(data_folder, crit[:4] + \"_L8_30m_iceshelf.tif\")\n",
    "    )"
   ]
  },
  {
   "cell_type": "code",
   "execution_count": 12,
   "metadata": {},
   "outputs": [
    {
     "name": "stdout",
     "output_type": "stream",
     "text": [
      "2018-12-01_2019-03-31\n",
      "2019-12-01_2020-03-31\n",
      "2020-12-01_2021-03-31\n"
     ]
    }
   ],
   "source": [
    "input_folder = r\"E:\\ASRP_Data\"\n",
    "criteria = [\"2018-12-01_2019-03-31\", \"2019-12-01_2020-03-31\", \"2020-12-01_2021-03-31\"]\n",
    "for crit in criteria:\n",
    "    print(crit)\n",
    "    folder = [\n",
    "        os.path.join(input_folder, f)\n",
    "        for f in os.listdir(input_folder)\n",
    "        if crit.replace(\"-\", \"\") in f\n",
    "    ][0]\n",
    "    L8S2_files = [\n",
    "        os.path.join(input_folder, folder, f)\n",
    "        for f in os.listdir(folder)\n",
    "        if crit in f\n",
    "        and \".tif\" in f\n",
    "        and \"maxlake\" in f\n",
    "        and \"_L8S2_\" in f\n",
    "        and \"10m\" in f\n",
    "    ]\n",
    "    app.merge_geotiffs(\n",
    "        L8S2_files, os.path.join(data_folder, crit[:4] + \"_10m_maxlake.tif\")\n",
    "    )"
   ]
  },
  {
   "cell_type": "code",
   "execution_count": 13,
   "metadata": {},
   "outputs": [
    {
     "name": "stdout",
     "output_type": "stream",
     "text": [
      "['E:\\\\ASRP_Data\\\\shackleton\\\\tile-181_vx.tif', 'E:\\\\ASRP_Data\\\\shackleton\\\\tile-182_vx.tif', 'E:\\\\ASRP_Data\\\\shackleton\\\\tile-183_vx.tif']\n",
      "['E:\\\\ASRP_Data\\\\shackleton\\\\tile-181_vy.tif', 'E:\\\\ASRP_Data\\\\shackleton\\\\tile-182_vy.tif', 'E:\\\\ASRP_Data\\\\shackleton\\\\tile-183_vy.tif']\n"
     ]
    }
   ],
   "source": [
    "input_folder = r\"E:\\ASRP_Data\\shackleton\"\n",
    "vx_files = [\n",
    "    os.path.join(input_folder, f)\n",
    "    for f in os.listdir(input_folder)\n",
    "    if \".tif\" in f and \"vx\" in f\n",
    "]\n",
    "vy_files = [\n",
    "    os.path.join(input_folder, f)\n",
    "    for f in os.listdir(input_folder)\n",
    "    if \".tif\" in f and \"vy\" in f\n",
    "]\n",
    "print(vx_files)\n",
    "print(vy_files)\n",
    "app.merge_geotiffs(\n",
    "    vx_files, os.path.join(data_folder, \"30m_vx.tif\")\n",
    ")\n",
    "app.merge_geotiffs(\n",
    "    vy_files, os.path.join(data_folder, \"30m_vy.tif\")\n",
    ")"
   ]
  },
  {
   "cell_type": "code",
   "execution_count": null,
   "metadata": {},
   "outputs": [],
   "source": []
  }
 ],
 "metadata": {
  "kernelspec": {
   "display_name": ".venvASRP",
   "language": "python",
   "name": "python3"
  },
  "language_info": {
   "codemirror_mode": {
    "name": "ipython",
    "version": 3
   },
   "file_extension": ".py",
   "mimetype": "text/x-python",
   "name": "python",
   "nbconvert_exporter": "python",
   "pygments_lexer": "ipython3",
   "version": "3.11.5"
  }
 },
 "nbformat": 4,
 "nbformat_minor": 2
}
