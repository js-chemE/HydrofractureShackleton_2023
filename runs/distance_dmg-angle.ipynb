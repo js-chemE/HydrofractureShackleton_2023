{
 "cells": [
  {
   "cell_type": "code",
   "execution_count": 2,
   "metadata": {},
   "outputs": [
    {
     "ename": "ModuleNotFoundError",
     "evalue": "No module named 'sgl_processor_v03'",
     "output_type": "error",
     "traceback": [
      "\u001b[1;31m---------------------------------------------------------------------------\u001b[0m",
      "\u001b[1;31mModuleNotFoundError\u001b[0m                       Traceback (most recent call last)",
      "Cell \u001b[1;32mIn[2], line 24\u001b[0m\n\u001b[0;32m     21\u001b[0m \u001b[39mimport\u001b[39;00m \u001b[39mos\u001b[39;00m\n\u001b[0;32m     22\u001b[0m \u001b[39mimport\u001b[39;00m \u001b[39mpandas\u001b[39;00m \u001b[39mas\u001b[39;00m \u001b[39mpd\u001b[39;00m\n\u001b[1;32m---> 24\u001b[0m \u001b[39mimport\u001b[39;00m \u001b[39msgl_processor_v03\u001b[39;00m \u001b[39mas\u001b[39;00m \u001b[39msgl\u001b[39;00m \u001b[39m# type: ignore\u001b[39;00m\n\u001b[0;32m     25\u001b[0m \u001b[39mimport\u001b[39;00m \u001b[39msgl_utils\u001b[39;00m \u001b[39m# type: ignore\u001b[39;00m\n\u001b[0;32m     26\u001b[0m \u001b[39mimport\u001b[39;00m \u001b[39mgeopandas\u001b[39;00m \u001b[39mas\u001b[39;00m \u001b[39mgpd\u001b[39;00m\n",
      "\u001b[1;31mModuleNotFoundError\u001b[0m: No module named 'sgl_processor_v03'"
     ]
    }
   ],
   "source": [
    "import numpy as np\n",
    "import shapely\n",
    "import json\n",
    "import matplotlib.pyplot as plt\n",
    "from matplotlib.colors import LinearSegmentedColormap\n",
    "import matplotlib.cm as cm\n",
    "import rasterio\n",
    "import rasterio.plot as rplt\n",
    "from rasterio.crs import CRS\n",
    "from rasterio.merge import merge\n",
    "from rasterio.mask import mask\n",
    "from rasterio.io import MemoryFile\n",
    "import rasterio.windows  as rw\n",
    "from rasterio.enums import Resampling\n",
    "from rasterio.transform import Affine\n",
    "from scipy.spatial import cKDTree\n",
    "from skimage import (color, data, filters, measure, morphology, segmentation,\n",
    "                     util)\n",
    "from matplotlib_scalebar.scalebar import ScaleBar\n",
    "from typing import List, Any\n",
    "import os\n",
    "import pandas as pd\n",
    "\n",
    "import sgl_processor_v03 as sgl # type: ignore\n",
    "import sgl_utils # type: ignore\n",
    "import geopandas as gpd"
   ]
  },
  {
   "cell_type": "code",
   "execution_count": 2,
   "metadata": {},
   "outputs": [
    {
     "name": "stdout",
     "output_type": "stream",
     "text": [
      "X=====================================================\n",
      "SGLProcessor started for 20191201 to 20200331\n",
      "X=====================================================\n",
      "=====> Get metadata from .csv files.\n",
      "=====> Create collection from csv meta.\n",
      "     | 69 windows created for collection.\n"
     ]
    }
   ],
   "source": [
    "settings = sgl.ProcessorSGLSettings()\n",
    "settings.rangestart = \"20191201\"\n",
    "settings.rangeend = \"20200331\"\n",
    "processorSGL = sgl.initialize(settings)\n",
    "metas = sgl.get_metadata_from_csv(settings.season_folder, [\"tile-181\", \"tile-182\", \"tile-183\"])\n",
    "coll = sgl.create_collection_from_meta(settings, \"shackleton1920\", metas)"
   ]
  },
  {
   "cell_type": "code",
   "execution_count": 3,
   "metadata": {},
   "outputs": [
    {
     "name": "stdout",
     "output_type": "stream",
     "text": [
      "=====> Combine and filter drainages.\n"
     ]
    },
    {
     "name": "stderr",
     "output_type": "stream",
     "text": [
      "d:\\Programme\\Anaconda\\lib\\site-packages\\geopandas\\geodataframe.py:1322: SettingWithCopyWarning: \n",
      "A value is trying to be set on a copy of a slice from a DataFrame.\n",
      "Try using .loc[row_indexer,col_indexer] = value instead\n",
      "\n",
      "See the caveats in the documentation: https://pandas.pydata.org/pandas-docs/stable/user_guide/indexing.html#returning-a-view-versus-a-copy\n",
      "  super(GeoDataFrame, self).__setitem__(key, value)\n"
     ]
    },
    {
     "name": "stdout",
     "output_type": "stream",
     "text": [
      "     | tile-181\n",
      "     |  3084 -> raw\n",
      "     |   518 -> filtered by time difference of max 10 days\n",
      "     |   398 -> within melting period\n",
      "     |   194 -> valid satellite combination\n",
      "     |   194 -> filterd by minimum lake area 0.054 km2\n"
     ]
    },
    {
     "name": "stderr",
     "output_type": "stream",
     "text": [
      "d:\\Programme\\Anaconda\\lib\\site-packages\\geopandas\\geodataframe.py:1322: SettingWithCopyWarning: \n",
      "A value is trying to be set on a copy of a slice from a DataFrame.\n",
      "Try using .loc[row_indexer,col_indexer] = value instead\n",
      "\n",
      "See the caveats in the documentation: https://pandas.pydata.org/pandas-docs/stable/user_guide/indexing.html#returning-a-view-versus-a-copy\n",
      "  super(GeoDataFrame, self).__setitem__(key, value)\n",
      "d:\\Programme\\Anaconda\\lib\\site-packages\\geopandas\\geodataframe.py:1322: SettingWithCopyWarning: \n",
      "A value is trying to be set on a copy of a slice from a DataFrame.\n",
      "Try using .loc[row_indexer,col_indexer] = value instead\n",
      "\n",
      "See the caveats in the documentation: https://pandas.pydata.org/pandas-docs/stable/user_guide/indexing.html#returning-a-view-versus-a-copy\n",
      "  super(GeoDataFrame, self).__setitem__(key, value)\n"
     ]
    },
    {
     "name": "stdout",
     "output_type": "stream",
     "text": [
      "     | tile-182\n",
      "     |   721 -> raw\n",
      "     |   188 -> filtered by time difference of max 10 days\n",
      "     |    86 -> within melting period\n",
      "     |    43 -> valid satellite combination\n",
      "     |    43 -> filterd by minimum lake area 0.054 km2\n",
      "     | tile-183\n",
      "     |   218 -> raw\n",
      "     |    39 -> filtered by time difference of max 10 days\n",
      "     |    26 -> within melting period\n",
      "     |     5 -> valid satellite combination\n",
      "     |     5 -> filterd by minimum lake area 0.054 km2\n",
      "     |\n",
      "     |   242 -> combined events\n",
      "=====> Check L8 / S2 images for cloud cover.\n",
      "     |   216 -> lakes to remove (nodepth : 64 | shallow : 131 | std : 4 | clouds-0 : 5 | clouds-1 : 12).\n",
      "     |    26 -> Cloud cover checked.\n"
     ]
    },
    {
     "name": "stderr",
     "output_type": "stream",
     "text": [
      "d:\\Programme\\Anaconda\\lib\\site-packages\\geopandas\\io\\file.py:299: FutureWarning: pandas.Int64Index is deprecated and will be removed from pandas in a future version. Use pandas.Index with the appropriate dtype instead.\n",
      "  pd.Int64Index,\n"
     ]
    }
   ],
   "source": [
    "sgl.combine_filter_drainages(settings, coll, print_metadata = True)\n",
    "drains = gpd.read_file(r\"D:\\[NOT SYNC]\\ASRP_Data\\shackleton_sgl_20201201_20210331\\L8S2_20201201_20210331_drain.shp\")"
   ]
  },
  {
   "cell_type": "code",
   "execution_count": 4,
   "metadata": {},
   "outputs": [],
   "source": [
    "lakeextent = gpd.read_file(r\"D:\\[NOT SYNC]\\ASRP_Data\\shackleton_sgl_20201201_20210331\\L8S2_20201201_20210331_lakeextent.shp\")\n",
    "dmgs = gpd.read_file(r\"D:\\[NOT SYNC]\\ASRP_Data\\shackleton_S1_30m\\S1_20201201_20210331_dmg_5.shp\")\n",
    "#gdf_labels = pd.read_excel(r\"D:\\OneDrive\\02_Standards\\[Code]\\01_Projects\\ASRP_Antarctic-Remote-Sensing-1\\202_OutputSGL\\shackleton_sgl_20191201_20200331\\drain_labels_v1.xlsx\")\n",
    "#drain_labels = dict(zip(gdf_labels[gdf_labels[\"window\"] == 0][\"criteria\"], gdf_labels[gdf_labels[\"window\"] == 0][\"drainage\"]))\n",
    "#positive_drains = [k for k, v in drain_labels.items() if v == 1]\n",
    "ice = gpd.read_file(r\"D:\\[NOT SYNC]\\ASRP_Data\\shackleton\\ice_shelves.geojson\").to_crs(settings.crs_ant_str)"
   ]
  },
  {
   "cell_type": "code",
   "execution_count": 5,
   "metadata": {},
   "outputs": [
    {
     "name": "stdout",
     "output_type": "stream",
     "text": [
      "=====> Get vectorized active crevasses for 45° (15°).\n",
      "     |  15908 |  35522 | tile-181_delta-alpha.tif\n",
      "     |  20707 |  34195 | tile-182_delta-alpha.tif\n",
      "     |   7236 |  17401 | tile-183_delta-alpha.tif\n",
      "     |  43851 vs  87118 with EPSG:3031\n"
     ]
    }
   ],
   "source": [
    "crevs = processorSGL.get_vectorized_crevasse(coll, print_bool = True, target = 45, spread = 15)\n",
    "active_crevs = gpd.GeoDataFrame(pd.concat([d[\"data active\"] for d in crevs]))  # type: ignore\n",
    "active_crevs.set_crs(crevs[0][\"data active\"].crs)  # type: ignore\n",
    "inactive_crevs = gpd.GeoDataFrame(pd.concat([d[\"data inactive\"] for d in crevs]))  # type: ignore\n",
    "inactive_crevs.set_crs(crevs[0][\"data inactive\"].crs)   # type: ignore\n",
    "print(f\"     | {active_crevs.shape[0]:>6d} vs {inactive_crevs.shape[0]:>6d} with {dmgs_combined.crs}\")"
   ]
  },
  {
   "cell_type": "code",
   "execution_count": 9,
   "metadata": {},
   "outputs": [],
   "source": [
    "def ckdnearest_SGLfromCREV(gdSGL, gdCREV, number_nearest_crev: int = 1):\n",
    "    gdSGL = gdSGL.reset_index(drop=True)\n",
    "    nSGL = np.array(list(gdSGL[\"geometry\"].centroid.apply(lambda x: (x.x, x.y))))\n",
    "\n",
    "    nCREV = np.array(list(gdCREV[\"geometry\"].centroid.apply(lambda x: (x.x, x.y))))\n",
    "    CREVtree = cKDTree(nCREV)\n",
    "    dist, idx = CREVtree.query(nSGL, k=number_nearest_crev)\n",
    "    if idx.ndim > 1:\n",
    "        gdCREV_nearest = gdCREV.iloc[idx[0]].rename(columns={\"geometry\" : \"crev-geometry\"}).reset_index(drop=True)\n",
    "        gdf = pd.concat(\n",
    "            [\n",
    "                gdSGL.reset_index(drop=True).rename(columns={\"geometry\" : \"sgl-geometry\"}),\n",
    "                pd.Series(dist.mean(axis = 1), name='dist-lake-crev'),\n",
    "                gdCREV_nearest\n",
    "                \n",
    "            ], \n",
    "            axis=1)\n",
    "    else:\n",
    "        gdCREV_nearest = gdCREV.iloc[idx].rename(columns={\"geometry\" : \"crev-geometry\"}).reset_index(drop=True)\n",
    "\n",
    "        gdf = pd.concat(\n",
    "            [\n",
    "                gdSGL.reset_index(drop=True).rename(columns={\"geometry\" : \"sgl-geometry\"}),\n",
    "                pd.Series(dist, name='dist-lake-crev'),\n",
    "                gdCREV_nearest,\n",
    "                \n",
    "            ], \n",
    "            axis=1)\n",
    "\n",
    "    return gdf"
   ]
  },
  {
   "cell_type": "code",
   "execution_count": 10,
   "metadata": {},
   "outputs": [],
   "source": [
    "distance_SGLfromCREV_active = ckdnearest_SGLfromCREV(lakeextent, active_crevs, number_nearest_dmg = 1)\n",
    "distance_SGLfromCREV_inactive = ckdnearest_SGLfromCREV(lakeextent, inactive_crevs, number_nearest_dmg = 1)"
   ]
  },
  {
   "cell_type": "code",
   "execution_count": 13,
   "metadata": {},
   "outputs": [],
   "source": [
    "distance_DRAINfromCREV_active = ckdnearest_SGLfromCREV(drains[drains[\"window\"] == 0], active_crevs, number_nearest_dmg = 1)\n",
    "distance_DRAINfromCREV_inactive = ckdnearest_SGLfromCREV(drains[drains[\"window\"] == 0], inactive_crevs, number_nearest_dmg = 1)"
   ]
  },
  {
   "cell_type": "code",
   "execution_count": 23,
   "metadata": {},
   "outputs": [
    {
     "data": {
      "image/png": "[encoded data removed]",
      "text/plain": [
       "<Figure size 1200x600 with 1 Axes>"
      ]
     },
     "metadata": {},
     "output_type": "display_data"
    }
   ],
   "source": [
    "bin_limits_sgl = np.arange(0, max(distance_SGLfromCREV_active['dist-lake-crev']) // 4, 300/2)\n",
    "\n",
    "fig, ax = plt.subplots(figsize = (12, 6))\n",
    "maximum_active = max(distance_DRAINfromCREV_active['dist-lake-crev'])\n",
    "bin_limits_drains_active = np.arange(0, maximum_active, maximum_active // 5)\n",
    "count_drains_active, division_drains_active = np.histogram(distance_DRAINfromCREV_active['dist-lake-crev'], bins = bin_limits_drains_active)\n",
    "count_drains_active_sum = np.array(count_drains_active).sum()\n",
    "ax.scatter(division_drains_active[:-1], np.array(count_drains_active) / count_drains_active_sum, lw = 2, label = f\"active\", color = \"darkmagenta\")\n",
    "\n",
    "maximum_inactive = max(distance_DRAINfromCREV_inactive['dist-lake-crev'])\n",
    "bin_limits_drains_inactive = np.arange(0, maximum_inactive, maximum_inactive // 5)\n",
    "count_drains_inactive, division_drains_inactive = np.histogram(distance_DRAINfromCREV_inactive['dist-lake-crev'], bins = bin_limits_drains_inactive)\n",
    "count_drains_inactive_sum = np.array(count_drains_inactive).sum()\n",
    "ax.scatter(division_drains_inactive[:-1], np.array(count_drains_inactive) / count_drains_inactive_sum, lw = 2, label = f\"inactive\", color = \"lightpink\")\n",
    "\n",
    "\n",
    "count_sgl_active, division_sgl_active = np.histogram(distance_SGLfromCREV_active['dist-lake-crev'], bins = bin_limits_sgl)\n",
    "count_sgl_active_sum = np.array(count_sgl_active).sum()\n",
    "ax.step(division_sgl_active[:-1], np.array(count_sgl_active) / count_sgl_active_sum, lw = 2, label = f\"active\", color = \"darkmagenta\")\n",
    "\n",
    "count_sgl_inactive, division_sgl_inactive = np.histogram(distance_SGLfromCREV_inactive['dist-lake-crev'], bins = bin_limits_sgl)\n",
    "count_sgl_inactive_sum = np.array(count_sgl_inactive).sum()\n",
    "ax.step(division_sgl_inactive[:-1], np.array(count_sgl_inactive) / count_sgl_inactive_sum, lw = 2, label = f\"inactive\", color = \"lightpink\")\n",
    "\n",
    "ax.set_xlabel(\"distance in m\")\n",
    "ax.set_ylabel(\"distribution\")\n",
    "#ax.set_xscale(\"log\")\n",
    "ax.set_yscale(\"log\")\n",
    "ax.legend()\n",
    "plt.show()"
   ]
  }
 ],
 "metadata": {
  "kernelspec": {
   "display_name": "Python 3.9.13 ('base')",
   "language": "python",
   "name": "python3"
  },
  "language_info": {
   "codemirror_mode": {
    "name": "ipython",
    "version": 3
   },
   "file_extension": ".py",
   "mimetype": "text/x-python",
   "name": "python",
   "nbconvert_exporter": "python",
   "pygments_lexer": "ipython3",
   "version": "3.11.4"
  },
  "orig_nbformat": 4,
  "vscode": {
   "interpreter": {
    "hash": "ff81698178776af95f4a351a911bfee9106e679b744f885a3fb17ba0d60fe3ea"
   }
  }
 },
 "nbformat": 4,
 "nbformat_minor": 2
}
